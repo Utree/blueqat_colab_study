{
  "nbformat": 4,
  "nbformat_minor": 0,
  "metadata": {
    "colab": {
      "name": "blueqat.ipynb",
      "version": "0.3.2",
      "provenance": [],
      "include_colab_link": true
    },
    "kernelspec": {
      "name": "python3",
      "display_name": "Python 3"
    }
  },
  "cells": [
    {
      "cell_type": "markdown",
      "metadata": {
        "id": "view-in-github",
        "colab_type": "text"
      },
      "source": [
        "<a href=\"https://colab.research.google.com/github/Utree/blueqat_colab_study/blob/master/blueqat.ipynb\" target=\"_parent\"><img src=\"https://colab.research.google.com/assets/colab-badge.svg\" alt=\"Open In Colab\"/></a>"
      ]
    },
    {
      "metadata": {
        "id": "xNcE3Q5woVCw",
        "colab_type": "code",
        "colab": {
          "base_uri": "https://localhost:8080/",
          "height": 109
        },
        "outputId": "33e41488-01f0-49c5-dece-e67668bf31f8"
      },
      "cell_type": "code",
      "source": [
        "# blueqatのインストール\n",
        "!pip install blueqat"
      ],
      "execution_count": 1,
      "outputs": [
        {
          "output_type": "stream",
          "text": [
            "Collecting blueqat\n",
            "  Downloading https://files.pythonhosted.org/packages/53/06/57af3d1de91886ee9e6c183c6e32d67ecedccbe741c17f394c2f6c197e47/blueqat-0.3.6-py3-none-any.whl\n",
            "Installing collected packages: blueqat\n",
            "Successfully installed blueqat-0.3.6\n"
          ],
          "name": "stdout"
        }
      ]
    },
    {
      "metadata": {
        "id": "LOCcQbDPplzV",
        "colab_type": "code",
        "colab": {}
      },
      "cell_type": "code",
      "source": [
        "from blueqat import Circuit"
      ],
      "execution_count": 0,
      "outputs": []
    },
    {
      "metadata": {
        "id": "V0TulMqJoqr9",
        "colab_type": "code",
        "colab": {
          "base_uri": "https://localhost:8080/",
          "height": 35
        },
        "outputId": "10dfa7e7-292a-40ae-cf0a-8f7f72a9791b"
      },
      "cell_type": "code",
      "source": [
        "# 重ね合わせ回路\n",
        "Circuit().h[0].m[:].run(shots=100)"
      ],
      "execution_count": 2,
      "outputs": [
        {
          "output_type": "execute_result",
          "data": {
            "text/plain": [
              "Counter({'0': 55, '1': 45})"
            ]
          },
          "metadata": {
            "tags": []
          },
          "execution_count": 2
        }
      ]
    },
    {
      "metadata": {
        "id": "bx3pi4jMpmhv",
        "colab_type": "code",
        "colab": {
          "base_uri": "https://localhost:8080/",
          "height": 35
        },
        "outputId": "b89068c0-a22a-4f9c-80b8-0df9fa2ded43"
      },
      "cell_type": "code",
      "source": [
        "# 量子もつれ回路\n",
        "Circuit().h[0].cx[0, 1].m[:].run(shots=100)"
      ],
      "execution_count": 3,
      "outputs": [
        {
          "output_type": "execute_result",
          "data": {
            "text/plain": [
              "Counter({'00': 53, '11': 47})"
            ]
          },
          "metadata": {
            "tags": []
          },
          "execution_count": 3
        }
      ]
    },
    {
      "metadata": {
        "id": "Tpgxrk6bqRnT",
        "colab_type": "code",
        "colab": {
          "base_uri": "https://localhost:8080/",
          "height": 35
        },
        "outputId": "05b72940-f1b7-43ec-d34f-2b1b663943c1"
      },
      "cell_type": "code",
      "source": [
        "Circuit(4).h[:2].ccx[0,1,3].cx[1,2].cx[0,2].m[:].run(shots=100)"
      ],
      "execution_count": 4,
      "outputs": [
        {
          "output_type": "execute_result",
          "data": {
            "text/plain": [
              "Counter({'0000': 25, '0110': 21, '1010': 25, '1101': 29})"
            ]
          },
          "metadata": {
            "tags": []
          },
          "execution_count": 4
        }
      ]
    },
    {
      "metadata": {
        "id": "_XyOFVkMrauk",
        "colab_type": "code",
        "colab": {
          "base_uri": "https://localhost:8080/",
          "height": 35
        },
        "outputId": "95f85448-92fc-46c0-eaf6-eaca3f5a3ea9"
      },
      "cell_type": "code",
      "source": [
        "Circuit().h[1].cx[1,2].cx[0,1].h[0].cx[1,2].cz[0,2].m[:].run(shots=100)"
      ],
      "execution_count": 5,
      "outputs": [
        {
          "output_type": "execute_result",
          "data": {
            "text/plain": [
              "Counter({'000': 25, '010': 21, '100': 36, '110': 18})"
            ]
          },
          "metadata": {
            "tags": []
          },
          "execution_count": 5
        }
      ]
    }
  ]
}